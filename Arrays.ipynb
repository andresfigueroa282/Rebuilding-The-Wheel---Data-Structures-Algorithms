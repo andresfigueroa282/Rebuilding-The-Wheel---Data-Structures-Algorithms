{
 "cells": [
  {
   "cell_type": "markdown",
   "id": "35e3ac8b",
   "metadata": {},
   "source": [
    "### Programming Assignment: Implement My Own Array in Python\n",
    "**Author:** Andres Figueroa\n",
    "\n",
    "**Email:** andresfigueroa@brandies.edu\n",
    "\n",
    "#### Objective:\n",
    "The goal of this assignment is to implement a custom array class in Python that mimics the behavior of a standard array.\n",
    "\n",
    "---\n",
    "\n",
    "#### Rules & Guidelines\n",
    "1. **Allowed Functions/Concepts:**\n",
    "    - Basic Python syntax and constructs (loops, conditionals, etc.)\n",
    "    - Class and object-oriented programming concepts\n",
    "    - Exception handling\n",
    "    - Basic arithmetic operations\n",
    "2. **Forbidden Functions/Shortcuts:**\n",
    "    - Using built-in array libraries (like `array` module, `numpy`, etc.)\n",
    "    - Using advanced data structures (like sets, dictionaries, etc.)\n",
    "    - Any form of external libraries or packages\n",
    "\n",
    "---\n",
    "\n",
    "#### Author's Note\n",
    "This assignment, this repository, is for me to get better at coding. While I can code, I am not the best at coding interviews. I need a refresher and improve my problem-solving skills. To myself, and maybe to others that see this note, good luck and keep killing it!\n",
    "\n",
    "---\n",
    "\n",
    "#### Methods Implement\n",
    "\n",
    "#### 1. Initialization - Constructing the Array"
   ]
  },
  {
   "cell_type": "code",
   "execution_count": null,
   "id": "d37d9b98",
   "metadata": {},
   "outputs": [],
   "source": [
    "class Array:\n",
    "    capacity = 0\n",
    "    array = []\n",
    "    size = 0\n",
    "\n",
    "    def __init__(self, capacity = 5):\n",
    "        self.capacity = capacity\n",
    "        self.array = [None] * capacity"
   ]
  },
  {
   "cell_type": "markdown",
   "id": "09e23f9a",
   "metadata": {},
   "source": [
    ">**Note:**\n",
    ">- `__init__` is the constructor\n",
    ">- `self` refers to that specific instance of a class, or the object"
   ]
  },
  {
   "cell_type": "markdown",
   "id": "84ade482",
   "metadata": {},
   "source": [
    "#### 2. `len()` - Getting the Length of the Array"
   ]
  },
  {
   "cell_type": "code",
   "execution_count": null,
   "id": "a7589652",
   "metadata": {},
   "outputs": [],
   "source": [
    "def __len__(self):\n",
    "        return self.size"
   ]
  },
  {
   "cell_type": "markdown",
   "id": "84dad0b5",
   "metadata": {},
   "source": [
    "#### 3. `append()` - Adding an Element to the Array"
   ]
  },
  {
   "cell_type": "code",
   "execution_count": null,
   "id": "27584f9e",
   "metadata": {},
   "outputs": [],
   "source": [
    "def __append__(self, value):\n",
    "        size += 1\n",
    "        if size > self.capacity:\n",
    "                for i in self.len():\n",
    "                        if self.array[i] == None:\n",
    "                                self.array[i] = value\n",
    "                                break\n",
    "        \n",
    "        else:\n",
    "                capacity += 1\n",
    "                size = capacity\n",
    "                newArray = [capacity]\n",
    "                for i in self.len():\n",
    "                        newArray[i] = self.array[i]\n",
    "                newArray[capacity + 1] = value\n",
    "                self.array = newArray\n"
   ]
  },
  {
   "cell_type": "markdown",
   "id": "64599aa3",
   "metadata": {},
   "source": [
    "#### 4. `get()` - Getting a Value at a Specific Index"
   ]
  },
  {
   "cell_type": "code",
   "execution_count": 2,
   "id": "93d92d92",
   "metadata": {},
   "outputs": [],
   "source": [
    "def __get__(self, index):\n",
    "    try:\n",
    "        self.array[index]\n",
    "    except IndexError:\n",
    "        print(\"Index Error, you tried accessing an index that can't be accessed\")\n",
    "    "
   ]
  },
  {
   "cell_type": "markdown",
   "id": "c0e4f29a",
   "metadata": {},
   "source": [
    "#### 5. `set()` - Setting a Value at a Specific Index"
   ]
  },
  {
   "cell_type": "code",
   "execution_count": null,
   "id": "a17ed487",
   "metadata": {},
   "outputs": [],
   "source": [
    "def __set__(self, index, value):\n",
    "    try:\n",
    "        self.array[index] = value\n",
    "    except IndexError:\n",
    "        print(\"Index Error, you tried accessing an index that can't be accessed\")\n",
    "    "
   ]
  },
  {
   "cell_type": "markdown",
   "id": "a59fc7da",
   "metadata": {},
   "source": [
    "#### 6. `insert()` - Inserting a Value at a Specific Index"
   ]
  },
  {
   "cell_type": "code",
   "execution_count": null,
   "id": "cc774ffb",
   "metadata": {},
   "outputs": [],
   "source": [
    "def __insert__(self, index, value):\n",
    "    i = 0\n",
    "    capacity += 1\n",
    "    size = capacity\n",
    "    newArray = [capacity]\n",
    "    while i < self.len():\n",
    "        \n",
    "        i += 1"
   ]
  },
  {
   "cell_type": "markdown",
   "id": "a2cc1721",
   "metadata": {},
   "source": [
    "#### 7. `delete()` - Deleting an Element at a Specific Index"
   ]
  },
  {
   "cell_type": "markdown",
   "id": "2cc985c1",
   "metadata": {},
   "source": []
  }
 ],
 "metadata": {
  "kernelspec": {
   "display_name": "Python 3",
   "language": "python",
   "name": "python3"
  },
  "language_info": {
   "codemirror_mode": {
    "name": "ipython",
    "version": 3
   },
   "file_extension": ".py",
   "mimetype": "text/x-python",
   "name": "python",
   "nbconvert_exporter": "python",
   "pygments_lexer": "ipython3",
   "version": "3.10.11"
  }
 },
 "nbformat": 4,
 "nbformat_minor": 5
}
