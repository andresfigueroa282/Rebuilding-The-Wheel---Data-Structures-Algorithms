{
 "cells": [
  {
   "cell_type": "markdown",
   "id": "35e3ac8b",
   "metadata": {},
   "source": [
    "### Programming Assignment: Implement My Own Array in Python\n",
    "**Author:** Andres Figueroa\n",
    "\n",
    "**Email:** andresfigueroa@brandies.edu\n",
    "\n",
    "#### Objective:\n",
    "The goal of this assignment is to implement a custom array class in Python that mimics the behavior of a standard array.\n",
    "\n",
    "---\n",
    "\n",
    "#### Rules & Guidelines\n",
    "1. **Allowed Functions/Concepts:**\n",
    "    - Basic Python syntax and constructs (loops, conditionals, etc.)\n",
    "    - Class and object-oriented programming concepts\n",
    "    - Exception handling\n",
    "    - Basic arithmetic operations\n",
    "2. **Forbidden Functions/Shortcuts:**\n",
    "    - Using built-in array libraries (like `array` module, `numpy`, etc.)\n",
    "    - Using advanced data structures (like sets, dictionaries, etc.)\n",
    "    - Any form of external libraries or packages\n",
    "\n",
    "---\n",
    "\n",
    "#### Author's Note\n",
    "This assignment, this repository, is for me to get better at coding. While I can code, I am not the best at coding interviews. I need a refresher and improve my problem-solving skills. To myself, and maybe to others that see this note, good luck and keep killing it!\n",
    "\n",
    "---\n",
    "\n",
    "#### Methods Implement\n",
    "\n",
    "#### 1. Initialization - Constructing the Array"
   ]
  },
  {
   "cell_type": "code",
   "execution_count": 35,
   "id": "d37d9b98",
   "metadata": {},
   "outputs": [],
   "source": [
    "class Array:\n",
    "    capacity = 0\n",
    "    array = []\n",
    "    size = 0\n",
    "\n",
    "    def __init__(self, capacity = 5):\n",
    "        self.capacity = capacity\n",
    "        self.array = [None] * capacity"
   ]
  },
  {
   "cell_type": "markdown",
   "id": "09e23f9a",
   "metadata": {},
   "source": [
    ">**Note:**\n",
    ">- `__init__` is the constructor\n",
    ">- `self` refers to that specific instance of a class, or the object"
   ]
  },
  {
   "cell_type": "markdown",
   "id": "84ade482",
   "metadata": {},
   "source": [
    "#### 2. `len()` - Getting the Length of the Array"
   ]
  },
  {
   "cell_type": "code",
   "execution_count": 36,
   "id": "a7589652",
   "metadata": {},
   "outputs": [],
   "source": [
    "def len(self):\n",
    "        return self.size"
   ]
  },
  {
   "cell_type": "markdown",
   "id": "84dad0b5",
   "metadata": {},
   "source": [
    "#### 3. `append()` - Adding an Element to the Array"
   ]
  },
  {
   "cell_type": "code",
   "execution_count": 37,
   "id": "27584f9e",
   "metadata": {},
   "outputs": [],
   "source": [
    "def append(self, value):\n",
    "        self.size += 1\n",
    "        if self.size > self.capacity:\n",
    "                for i in self.len():\n",
    "                        if self.array[i] == None:\n",
    "                                self.array[i] = value\n",
    "                                break\n",
    "        \n",
    "        else:\n",
    "                self.capacity += 1\n",
    "                self.size = self.capacity\n",
    "                newArray = [self.capacity]\n",
    "                for i in self.len():\n",
    "                        newArray[i] = self.array[i]\n",
    "                newArray[self.capacity + 1] = value\n",
    "                self.array = newArray\n"
   ]
  },
  {
   "cell_type": "markdown",
   "id": "64599aa3",
   "metadata": {},
   "source": [
    "#### 4. `get()` - Getting a Value at a Specific Index"
   ]
  },
  {
   "cell_type": "code",
   "execution_count": 38,
   "id": "93d92d92",
   "metadata": {},
   "outputs": [],
   "source": [
    "def get(self, index):\n",
    "    try:\n",
    "        self.array[index]\n",
    "    except IndexError:\n",
    "        print(\"Index Error, you tried accessing an index that can't be accessed\")"
   ]
  },
  {
   "cell_type": "markdown",
   "id": "c0e4f29a",
   "metadata": {},
   "source": [
    "#### 5. `set()` - Setting a Value at a Specific Index"
   ]
  },
  {
   "cell_type": "code",
   "execution_count": 39,
   "id": "a17ed487",
   "metadata": {},
   "outputs": [],
   "source": [
    "def set(self, index, value):\n",
    "    try:\n",
    "        self.array[index] = value\n",
    "    except IndexError:\n",
    "        print(\"Index Error, you tried accessing an index that can't be accessed\")\n"
   ]
  },
  {
   "cell_type": "markdown",
   "id": "a59fc7da",
   "metadata": {},
   "source": [
    "#### 6. `insert()` - Inserting a Value at a Specific Index"
   ]
  },
  {
   "cell_type": "code",
   "execution_count": 40,
   "id": "cc774ffb",
   "metadata": {},
   "outputs": [],
   "source": [
    "def insert(self, index, value):\n",
    "    i = 0\n",
    "    self.capacity += 1\n",
    "    self.size = self.capacity\n",
    "    \n",
    "    newArray = [self.capacity]\n",
    "    switch = False\n",
    "    while i < self.len():\n",
    "        if switch == False:\n",
    "            newArray[i] = self.array[i]\n",
    "            if i == index:\n",
    "                switch == True\n",
    "        else:\n",
    "            newArray[i] = self.array[i +  1]\n",
    "        i += 1"
   ]
  },
  {
   "cell_type": "markdown",
   "id": "a2cc1721",
   "metadata": {},
   "source": [
    "#### 7. `delete()` - Deleting an Element at a Specific Index"
   ]
  },
  {
   "cell_type": "code",
   "execution_count": 41,
   "id": "1adcd747",
   "metadata": {},
   "outputs": [],
   "source": [
    "def delete(self, index):\n",
    "    try:\n",
    "        self.size -= 1\n",
    "        if self.capacity < self.size:\n",
    "            self.capacity = self.size\n",
    "\n",
    "        newArray = [self.capacity - 1]\n",
    "        switch = False\n",
    "        while i < self.len():\n",
    "            if switch == False:\n",
    "                if i == index:\n",
    "                    switch == True\n",
    "            else:\n",
    "                newArray[i] = self.array[i +  1]\n",
    "            i += 1\n",
    "\n",
    "\n",
    "    except IndexError:\n",
    "        print(\"Index Error, you tried accessing an index that can't be accessed\")"
   ]
  },
  {
   "cell_type": "code",
   "execution_count": 42,
   "id": "f33eb4fc",
   "metadata": {},
   "outputs": [
    {
     "name": "stdout",
     "output_type": "stream",
     "text": [
      "🚀 Running Array Tests...\n",
      "\n"
     ]
    },
    {
     "ename": "AttributeError",
     "evalue": "'Array' object has no attribute 'append'",
     "output_type": "error",
     "traceback": [
      "\u001b[1;31m---------------------------------------------------------------------------\u001b[0m",
      "\u001b[1;31mAttributeError\u001b[0m                            Traceback (most recent call last)",
      "Cell \u001b[1;32mIn[42], line 66\u001b[0m\n\u001b[0;32m     64\u001b[0m \u001b[38;5;28;01mif\u001b[39;00m \u001b[38;5;18m__name__\u001b[39m \u001b[38;5;241m==\u001b[39m \u001b[38;5;124m\"\u001b[39m\u001b[38;5;124m__main__\u001b[39m\u001b[38;5;124m\"\u001b[39m:\n\u001b[0;32m     65\u001b[0m     tester \u001b[38;5;241m=\u001b[39m TestArray()\n\u001b[1;32m---> 66\u001b[0m     \u001b[43mtester\u001b[49m\u001b[38;5;241;43m.\u001b[39;49m\u001b[43mrun_tests\u001b[49m\u001b[43m(\u001b[49m\u001b[43m)\u001b[49m\n",
      "Cell \u001b[1;32mIn[42], line 23\u001b[0m, in \u001b[0;36mTestArray.run_tests\u001b[1;34m(self)\u001b[0m\n\u001b[0;32m     20\u001b[0m arr \u001b[38;5;241m=\u001b[39m Array(capacity\u001b[38;5;241m=\u001b[39m\u001b[38;5;241m5\u001b[39m)\n\u001b[0;32m     22\u001b[0m \u001b[38;5;66;03m# Test 1: Append\u001b[39;00m\n\u001b[1;32m---> 23\u001b[0m \u001b[43marr\u001b[49m\u001b[38;5;241;43m.\u001b[39;49m\u001b[43mappend\u001b[49m(\u001b[38;5;241m10\u001b[39m)\n\u001b[0;32m     24\u001b[0m \u001b[38;5;28mself\u001b[39m\u001b[38;5;241m.\u001b[39mcheck(arr[\u001b[38;5;241m0\u001b[39m] \u001b[38;5;241m==\u001b[39m \u001b[38;5;241m10\u001b[39m, \u001b[38;5;124m\"\u001b[39m\u001b[38;5;124mAppend inserts correctly\u001b[39m\u001b[38;5;124m\"\u001b[39m)\n\u001b[0;32m     26\u001b[0m \u001b[38;5;66;03m# Test 2: Insert\u001b[39;00m\n",
      "\u001b[1;31mAttributeError\u001b[0m: 'Array' object has no attribute 'append'"
     ]
    }
   ],
   "source": [
    "class TestArray:\n",
    "    def __init__(self):\n",
    "        self.tests_passed = 0\n",
    "        self.tests_failed = 0\n",
    "        self.total_tests = 0\n",
    "\n",
    "    def check(self, condition, message):\n",
    "        \"\"\"Helper to check test results\"\"\"\n",
    "        self.total_tests += 1\n",
    "        if condition:\n",
    "            print(f\"✅ PASS: {message}\")\n",
    "            self.tests_passed += 1\n",
    "        else:\n",
    "            print(f\"❌ FAIL: {message}\")\n",
    "            self.tests_failed += 1\n",
    "\n",
    "    def run_tests(self):\n",
    "        print(\"🚀 Running Array Tests...\\n\")\n",
    "\n",
    "        arr = Array(capacity=5)\n",
    "\n",
    "        # Test 1: Append\n",
    "        arr.append(10)\n",
    "        self.check(arr[0] == 10, \"Append inserts correctly\")\n",
    "\n",
    "        # Test 2: Insert\n",
    "        arr.append(20)\n",
    "        arr.insert(1, 15)\n",
    "        self.check(arr[1] == 15 and arr[2] == 20, \"Insert shifts elements correctly\")\n",
    "\n",
    "        # Test 3: Delete\n",
    "        arr.delete(1)\n",
    "        self.check(arr[1] == 20, \"Delete removes element and shifts\")\n",
    "\n",
    "        # Test 4: Pop\n",
    "        popped = arr.pop()\n",
    "        self.check(popped == 20 and len(arr) == 1, \"Pop returns and removes last element\")\n",
    "\n",
    "        # Test 5: Set item\n",
    "        arr[0] = 99\n",
    "        self.check(arr[0] == 99, \"Set item works correctly\")\n",
    "\n",
    "        # Test 6: Get item (IndexError)\n",
    "        try:\n",
    "            _ = arr[10]\n",
    "            self.check(False, \"Out of range index raises IndexError\")\n",
    "        except IndexError:\n",
    "            self.check(True, \"Out of range index raises IndexError\")\n",
    "\n",
    "        # Test 7: Delete invalid index\n",
    "        try:\n",
    "            arr.delete(10)\n",
    "            self.check(False, \"Invalid delete index raises IndexError\")\n",
    "        except IndexError:\n",
    "            self.check(True, \"Invalid delete index raises IndexError\")\n",
    "\n",
    "        # Summary\n",
    "        print(\"\\n📊 Test Summary:\")\n",
    "        print(f\"Total: {self.total_tests}, Passed: {self.tests_passed}, Failed: {self.tests_failed}\")\n",
    "\n",
    "        score = (self.tests_passed / self.total_tests) * 100\n",
    "        print(f\"🏆 Final Score: {score:.2f}%\")\n",
    "\n",
    "if __name__ == \"__main__\":\n",
    "    tester = TestArray()\n",
    "    tester.run_tests()"
   ]
  }
 ],
 "metadata": {
  "kernelspec": {
   "display_name": "Python 3",
   "language": "python",
   "name": "python3"
  },
  "language_info": {
   "codemirror_mode": {
    "name": "ipython",
    "version": 3
   },
   "file_extension": ".py",
   "mimetype": "text/x-python",
   "name": "python",
   "nbconvert_exporter": "python",
   "pygments_lexer": "ipython3",
   "version": "3.10.11"
  }
 },
 "nbformat": 4,
 "nbformat_minor": 5
}
