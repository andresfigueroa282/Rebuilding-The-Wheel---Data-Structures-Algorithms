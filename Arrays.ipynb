{
 "cells": [
  {
   "cell_type": "markdown",
   "id": "35e3ac8b",
   "metadata": {},
   "source": [
    "### Programming Assignment: Implement My Own Array in Python\n",
    "**Author:** Andres Figueroa\n",
    "\n",
    "**Email:** andresfigueroa@brandies.edu\n",
    "\n",
    "#### Objective:\n",
    "The goal of this assignment is to implement a custom array class in Python that mimics the behavior of a standard array.\n",
    "\n",
    "---\n",
    "\n",
    "#### Rules & Guidelines\n",
    "1. **Allowed Functions/Concepts:**\n",
    "    - Basic Python syntax and constructs (loops, conditionals, etc.)\n",
    "    - Class and object-oriented programming concepts\n",
    "    - Exception handling\n",
    "    - Basic arithmetic operations\n",
    "2. **Forbidden Functions/Shortcuts:**\n",
    "    - Using built-in array libraries (like `array` module, `numpy`, etc.)\n",
    "    - Using advanced data structures (like sets, dictionaries, etc.)\n",
    "    - Any form of external libraries or packages\n",
    "\n",
    "---\n",
    "\n",
    "#### Author's Note\n",
    "This assignment, this repository, is for me to get better at coding. While I can code, I am not the best at coding interviews. I need a refresher and improve my problem-solving skills. To myself, and maybe to others that see this note, good luck and keep killing it!\n",
    "\n",
    "---"
   ]
  },
  {
   "cell_type": "markdown",
   "id": "09e23f9a",
   "metadata": {},
   "source": []
  }
 ],
 "metadata": {
  "language_info": {
   "name": "python"
  }
 },
 "nbformat": 4,
 "nbformat_minor": 5
}
